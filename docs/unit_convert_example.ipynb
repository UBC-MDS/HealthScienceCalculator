{
 "cells": [
  {
   "cell_type": "code",
   "execution_count": 1,
   "id": "0fb91b71-300c-45fd-82df-d81129ee1637",
   "metadata": {},
   "outputs": [],
   "source": [
    "import sys\n",
    "sys.path.append(\"../src/healthsciencecalculator\")\n",
    "from healthsciencecalculator import unit_convert"
   ]
  },
  {
   "cell_type": "markdown",
   "id": "93e596a8-2f5f-40e1-89c5-6804f1305d7f",
   "metadata": {},
   "source": [
    "## Unit Convert"
   ]
  },
  {
   "cell_type": "markdown",
   "id": "c545b95c-a879-4db9-924d-48fd0cf41c1f",
   "metadata": {},
   "source": [
    "### Description\n",
    "Converts values from one unit to another."
   ]
  },
  {
   "cell_type": "markdown",
   "id": "bc669f58-1947-4ba9-95e1-5dc70b352434",
   "metadata": {},
   "source": [
    "### Parameters\n",
    "| Parameter | Type   | Description                   | \n",
    "|-----------|--------|-------------------------------|\n",
    "| `value`  | float  | The numeric value to be converted.  | \n",
    "| `input_unit`  | str  | The unit of input value. | \n",
    "| `output_unit`  | str  | The desired unit of output value. | \n"
   ]
  },
  {
   "cell_type": "markdown",
   "id": "7b60d03f-6af5-4c07-bada-a02e2ec8eb15",
   "metadata": {},
   "source": [
    "### Supported Units\n",
    "| Type |   Unit   |\n",
    "|-----------|--------------------------|\n",
    "| `Length`  | meter(m), centimeter(cm), foot(feet), inch(inch) |\n",
    "| `Weight`  | kilogram(kg), gram(g), stone(stone), pound(lbs)|\n",
    "| `Volume`  | liter(L), milliliter(mL) |\n",
    "| `Concentration`  | milligram per deciliter(mg/dL), millimole per liter(mmol/L) |\n",
    "| `Temperature`  | celsius(C), fahrenheit(F) |"
   ]
  },
  {
   "cell_type": "markdown",
   "id": "cbdad90b-26b4-4a87-8384-4d589d1c0d8c",
   "metadata": {},
   "source": [
    "### Example 1: Length"
   ]
  },
  {
   "cell_type": "code",
   "execution_count": 3,
   "id": "28e0c176-4a46-4afe-b658-a1577c51d83d",
   "metadata": {},
   "outputs": [
    {
     "name": "stdout",
     "output_type": "stream",
     "text": [
      "3.28\n"
     ]
    }
   ],
   "source": [
    "# meter to foot\n",
    "length = unit_convert(1,\"m\",\"feet\")\n",
    "print(length)"
   ]
  },
  {
   "cell_type": "markdown",
   "id": "cb40bb97-5cc9-48f8-9efa-2a7a675d432a",
   "metadata": {},
   "source": [
    "### Example 2: Weight"
   ]
  },
  {
   "cell_type": "code",
   "execution_count": 6,
   "id": "487337a6-c032-4e59-851f-f7206c866580",
   "metadata": {},
   "outputs": [
    {
     "name": "stdout",
     "output_type": "stream",
     "text": [
      "1000.0\n"
     ]
    }
   ],
   "source": [
    "# kilogram to gram\n",
    "weight = unit_convert(1,\"kg\",\"g\")\n",
    "print(weight)"
   ]
  },
  {
   "cell_type": "markdown",
   "id": "ebe0f932-e01b-4ff9-969b-9f7998d241b8",
   "metadata": {},
   "source": [
    "### Example 3: Volume"
   ]
  },
  {
   "cell_type": "code",
   "execution_count": 8,
   "id": "6cd5aac1-6141-4ba9-ab29-517865e57241",
   "metadata": {},
   "outputs": [
    {
     "name": "stdout",
     "output_type": "stream",
     "text": [
      "1000.0\n"
     ]
    }
   ],
   "source": [
    "# liter to milliliter\n",
    "volume = unit_convert(1,\"L\",\"mL\")\n",
    "print(volume)"
   ]
  },
  {
   "cell_type": "markdown",
   "id": "72b10277-1deb-499b-bba8-c8c1321d8db0",
   "metadata": {},
   "source": [
    "### Example 4: Concentration"
   ]
  },
  {
   "cell_type": "code",
   "execution_count": 10,
   "id": "fa9e6fd9-2b5f-453a-bfc6-6f88c371792b",
   "metadata": {},
   "outputs": [
    {
     "name": "stdout",
     "output_type": "stream",
     "text": [
      "0.06\n"
     ]
    }
   ],
   "source": [
    "# milligram per deciliter to millimole per liter\n",
    "concentration = unit_convert(1,\"mg/dL\",\"mmol/L\")\n",
    "print(concentration)"
   ]
  },
  {
   "cell_type": "markdown",
   "id": "4156a521-f778-47fc-a1c0-4234d9a2853e",
   "metadata": {},
   "source": [
    "### Example 5: Temperature"
   ]
  },
  {
   "cell_type": "code",
   "execution_count": 11,
   "id": "e0b6a5da-8fed-4ec7-9a3f-a85ae601d643",
   "metadata": {},
   "outputs": [
    {
     "name": "stdout",
     "output_type": "stream",
     "text": [
      "33.8\n"
     ]
    }
   ],
   "source": [
    "# Celsius to Fahrenheit\n",
    "temperature = unit_convert(1,\"C\",\"F\")\n",
    "print(temperature)"
   ]
  },
  {
   "cell_type": "code",
   "execution_count": null,
   "id": "ac66b010-14e0-4688-b9df-4bcb53b5acc8",
   "metadata": {},
   "outputs": [],
   "source": []
  }
 ],
 "metadata": {
  "kernelspec": {
   "display_name": "Python 3 (ipykernel)",
   "language": "python",
   "name": "python3"
  },
  "language_info": {
   "codemirror_mode": {
    "name": "ipython",
    "version": 3
   },
   "file_extension": ".py",
   "mimetype": "text/x-python",
   "name": "python",
   "nbconvert_exporter": "python",
   "pygments_lexer": "ipython3",
   "version": "3.12.7"
  }
 },
 "nbformat": 4,
 "nbformat_minor": 5
}
