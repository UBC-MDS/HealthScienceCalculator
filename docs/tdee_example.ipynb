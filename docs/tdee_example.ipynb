{
    "cells": [
        {
            "cell_type": "markdown",
            "metadata": {},
            "source": [
                "# Example usage\n",
                "\n",
                "Here we will demonstrate how to use healthsciencecalculator to calculate BMI, BMR, TDEE, and convert units. \n"
            ]
        },
        {
            "cell_type": "markdown",
            "metadata": {},
            "source": [
                "## Imports"
            ]
        },
        {
            "cell_type": "code",
            "execution_count": 9,
            "metadata": {},
            "outputs": [],
            "source": [
                "import sys\n",
                "\n",
                "sys.path.append(\"../src/healthsciencecalculator\")"
            ]
        },
        {
            "cell_type": "code",
            "execution_count": 18,
            "metadata": {},
            "outputs": [],
            "source": [
                "from healthsciencecalculator import get_tdee \n"
            ]
        },
        {
            "cell_type": "markdown",
            "metadata": {},
            "source": [
                "## Create a Data Set\n",
                "\n",
                "we'll first create a data set to work with. . "
            ]
        },
        {
            "cell_type": "code",
            "execution_count": 5,
            "metadata": {},
            "outputs": [],
            "source": [
                "test_data = [\n",
                "    {\"weight\": 70.0, \"height\": 1.75, \"age\": 25, \"sex\": \"male\", \"activity_level\": \"moderately active\"},\n",
                "    {\"weight\": 55.0, \"height\": 1.62, \"age\": 30, \"sex\": \"female\", \"activity_level\": \"lightly active\"},\n",
                "    {\"weight\": 90.0, \"height\": 1.80, \"age\": 40, \"sex\": \"male\", \"activity_level\": \"very active\"},\n",
                "    {\"weight\": 68.0, \"height\": 1.65, \"age\": 28, \"sex\": \"female\", \"activity_level\": \"sedentary\"},\n",
                "    {\"weight\": 75.0, \"height\": 1.70, \"age\": 35, \"sex\": \"male\", \"activity_level\": \"extra active\"},\n",
                "]\n"
            ]
        },
        {
            "cell_type": "markdown",
            "metadata": {},
            "source": [
                "# TDEE Calculation Documentation\n",
                "\n",
                "## `get_tdee` Function\n",
                "\n",
                "### Description\n",
                "Calculates Total Daily Energy Expenditure (TDEE) based on BMR and activity level.\n",
                "\n",
                "### Parameters\n",
                "| Parameter | Type   | Description                   | Constraints               |\n",
                "|-----------|--------|-------------------------------|---------------------------|\n",
                "| `weight`  | float  | Weight in kilograms (kg)      | Must be a positive number |\n",
                "| `height`  | float  | Height in meters (m)          | Must be a positive number |\n",
                "\n",
                "### Returns\n",
                "`BMIResult` dataclass containing:\n",
                "- `bmi` (float): BMI value rounded to 1 decimal\n",
                "- `category` (str): Health classification:\n",
                "  - Underweight: <18.5\n",
                "  - Healthy: 18.5-24.9\n",
                "  - Overweight: 25-29.9\n",
                "  - Class 1 obesity: 30-34.9\n",
                "  - Class 2 obesity: 35-39.9\n",
                "  - Class 3 obesity: ≥40\n",
                "\n",
                "### Raises\n",
                "- `TypeError`: Non-numeric inputs\n",
                "- `ValueError`: Non-positive inputs"
            ]
        },
        {
            "cell_type": "code",
            "execution_count": null,
            "metadata": {},
            "outputs": [],
            "source": [
                "tdee = get_tdee(1668.9, \"moderately active\")  # BMR and activity level\n",
                "print(f\"TDEE: {tdee} calories/day\")\n"
            ]
        },
        {
            "cell_type": "code",
            "execution_count": null,
            "metadata": {},
            "outputs": [],
            "source": [
                "for person in test_data:\n",
                "    weight = person[\"weight\"]\n",
                "    height_cm = unit_convert(person[\"height\"], \"m\", \"cm\")  # Convert height to cm\n",
                "    age = person[\"age\"]\n",
                "    sex = person[\"sex\"]\n",
                "    activity_level = person[\"activity_level\"]\n",
                "    bmr = get_bmr(weight, height_cm, age, sex)\n",
                "    tdee = get_tdee(bmr, activity_level)\n",
                "    print(f\"BMR: {bmr}, Activity Level: {activity_level} -> TDEE: {tdee}\")\n"
            ]
        }
    ],
    "metadata": {
        "kernelspec": {
            "display_name": "base",
            "language": "python",
            "name": "python3"
        },
        "language_info": {
            "codemirror_mode": {
                "name": "ipython",
                "version": 3
            },
            "file_extension": ".py",
            "mimetype": "text/x-python",
            "name": "python",
            "nbconvert_exporter": "python",
            "pygments_lexer": "ipython3",
            "version": "3.12.7"
        }
    },
    "nbformat": 4,
    "nbformat_minor": 4
}
