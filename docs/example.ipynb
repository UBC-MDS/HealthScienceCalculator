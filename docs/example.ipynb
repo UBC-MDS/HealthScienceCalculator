{
    "cells": [
        {
            "cell_type": "markdown",
            "metadata": {},
            "source": [
                "# Example usage\n",
                "\n",
                "Demonstration on how to use `healthsciencecalculator` to calculate Health Index in a health dataset \n",
                " in a project:"
            ]
        },
        {
            "cell_type": "code",
            "execution_count": 1,
            "metadata": {},
            "outputs": [],
            "source": [
                "from healthsciencecalculator.healthsciencecalculator import get_tdee, get_bmi, get_bmr, unit_convert\n"
            ]
        },
        {
            "cell_type": "markdown",
            "metadata": {},
            "source": [
                "## Create a sample data\n",
                "\n",
                "First create a sample data to work with:"
            ]
        },
        {
            "cell_type": "code",
            "execution_count": 10,
            "metadata": {},
            "outputs": [],
            "source": [
                "# test_data = [\n",
                "#     {\"weight\": 70.0, \"height\": 1.75, \"age\": 25, \"sex\": \"male\", \"activity_level\": \"moderately active\"},\n",
                "#     {\"weight\": 55.0, \"height\": 1.62, \"age\": 30, \"sex\": \"female\", \"activity_level\": \"lightly active\"},\n",
                "#     {\"weight\": 90.0, \"height\": 1.80, \"age\": 40, \"sex\": \"male\", \"activity_level\": \"very active\"},\n",
                "#     {\"weight\": 68.0, \"height\": 1.65, \"age\": 28, \"sex\": \"female\", \"activity_level\": \"sedentary\"},\n",
                "#     {\"weight\": 75.0, \"height\": 1.70, \"age\": 35, \"sex\": \"male\", \"activity_level\": \"extra active\"},\n",
                "#]\n",
                "#with open(\"test_data.csv\", \"w\") as file:\n",
                " #       file.write(test_data)\n",
                "\n",
                "weight = 70.0\n",
                "height =1.75\n",
                "age =25\n",
                "sexm = \"male\"\n",
                "sexf = \"female\" \n",
                "activity_level1 = \"moderately active\""
            ]
        },
        {
            "cell_type": "markdown",
            "metadata": {},
            "source": [
                "## Get BMI\n",
                "\n",
                "Calculate the Body Mass Index using `get_bmi()` function. "
            ]
        },
        {
            "cell_type": "code",
            "execution_count": 11,
            "metadata": {},
            "outputs": [
                {
                    "name": "stdout",
                    "output_type": "stream",
                    "text": [
                        "BMIResult(bmi=22.9, category='healthy')\n"
                    ]
                }
            ],
            "source": [
                "bmi = get_bmi(weight, height)\n",
                "print (bmi)"
            ]
        },
        {
            "cell_type": "markdown",
            "metadata": {},
            "source": [
                "## Get BMR\n",
                "\n",
                "Calculate the Basal Metabolic Rate using `get_bmr()` function. "
            ]
        },
        {
            "cell_type": "code",
            "execution_count": 12,
            "metadata": {},
            "outputs": [
                {
                    "name": "stdout",
                    "output_type": "stream",
                    "text": [
                        "892.6253\n"
                    ]
                }
            ],
            "source": [
                "bmr = get_bmr(weight,height, age, sexm)\n",
                "print (bmr)"
            ]
        },
        {
            "cell_type": "markdown",
            "metadata": {},
            "source": [
                "## Get TDEE\n",
                "\n",
                "Calculate the Total Daily Energy Expenditure using `get_tdee()` function."
            ]
        },
        {
            "cell_type": "code",
            "execution_count": 13,
            "metadata": {},
            "outputs": [
                {
                    "name": "stdout",
                    "output_type": "stream",
                    "text": [
                        "1383.569215\n"
                    ]
                }
            ],
            "source": [
                "tdee = get_tdee(bmr, activity_level1)\n",
                "print (tdee)"
            ]
        },
        {
            "cell_type": "markdown",
            "metadata": {},
            "source": [
                "## Get unit convertions\n",
                "\n",
                "Get the unit convertions using `unit_convert()` function."
            ]
        },
        {
            "cell_type": "code",
            "execution_count": 14,
            "metadata": {},
            "outputs": [
                {
                    "name": "stdout",
                    "output_type": "stream",
                    "text": [
                        "175.0\n"
                    ]
                }
            ],
            "source": [
                "unit = unit_convert(height, \"m\", \"cm\")\n",
                "print(unit)"
            ]
        },
        {
            "cell_type": "code",
            "execution_count": null,
            "metadata": {},
            "outputs": [],
            "source": []
        }
    ],
    "metadata": {
        "kernelspec": {
            "display_name": "dsci524",
            "language": "python",
            "name": "python3"
        },
        "language_info": {
            "codemirror_mode": {
                "name": "ipython",
                "version": 3
            },
            "file_extension": ".py",
            "mimetype": "text/x-python",
            "name": "python",
            "nbconvert_exporter": "python",
            "pygments_lexer": "ipython3",
            "version": "3.12.0"
        }
    },
    "nbformat": 4,
    "nbformat_minor": 4
}
