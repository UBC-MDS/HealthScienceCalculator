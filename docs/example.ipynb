{
    "cells": [
        {
            "cell_type": "markdown",
            "metadata": {},
            "source": [
                "# Example usage\n",
                "\n",
                "Here we will demonstrate how to use healthsciencecalculator to calculate BMI, BMR, TDEE, and convert units. \n"
            ]
        },
        {
            "cell_type": "markdown",
            "metadata": {},
            "source": [
                "## Imports"
            ]
        },
        {
            "cell_type": "code",
            "execution_count": 9,
            "metadata": {},
            "outputs": [
                {
                    "ename": "ModuleNotFoundError",
                    "evalue": "No module named 'healthsciencecalculator'",
                    "output_type": "error",
                    "traceback": [
                        "\u001b[0;31m---------------------------------------------------------------------------\u001b[0m",
                        "\u001b[0;31mModuleNotFoundError\u001b[0m                       Traceback (most recent call last)",
                        "Cell \u001b[0;32mIn[9], line 1\u001b[0m\n\u001b[0;32m----> 1\u001b[0m \u001b[38;5;28;01mfrom\u001b[39;00m\u001b[38;5;250m \u001b[39m\u001b[38;5;21;01mhealthsciencecalculator\u001b[39;00m\u001b[38;5;21;01m.\u001b[39;00m\u001b[38;5;21;01mhealthsciencecalculator\u001b[39;00m\u001b[38;5;250m \u001b[39m\u001b[38;5;28;01mimport\u001b[39;00m get_tdee \n",
                        "\u001b[0;31mModuleNotFoundError\u001b[0m: No module named 'healthsciencecalculator'"
                    ]
                }
            ],
            "source": [
                "from healthsciencecalculator.healthsciencecalculator import get_tdee \n",
                "from healthsciencecalculator.healthsciencecalculator import get_bmi\n",
                "from healthsciencecalculator.healthsciencecalculator import unit_convert\n",
                "from healthsciencecalculator.healthsciencecalculator import bmr\n"
            ]
        },
        {
            "cell_type": "markdown",
            "metadata": {},
            "source": [
                "## Create a Data Set\n",
                "\n",
                "we'll first create a data set to work with. . "
            ]
        },
        {
            "cell_type": "code",
            "execution_count": 5,
            "metadata": {},
            "outputs": [],
            "source": [
                "test_data = [\n",
                "    {\"weight\": 70.0, \"height\": 1.75, \"age\": 25, \"sex\": \"male\", \"activity_level\": \"moderately active\"},\n",
                "    {\"weight\": 55.0, \"height\": 1.62, \"age\": 30, \"sex\": \"female\", \"activity_level\": \"lightly active\"},\n",
                "    {\"weight\": 90.0, \"height\": 1.80, \"age\": 40, \"sex\": \"male\", \"activity_level\": \"very active\"},\n",
                "    {\"weight\": 68.0, \"height\": 1.65, \"age\": 28, \"sex\": \"female\", \"activity_level\": \"sedentary\"},\n",
                "    {\"weight\": 75.0, \"height\": 1.70, \"age\": 35, \"sex\": \"male\", \"activity_level\": \"extra active\"},\n",
                "]\n"
            ]
        },
        {
            "cell_type": "markdown",
            "metadata": {},
            "source": [
                "## Calculate BMI"
            ]
        },
        {
            "cell_type": "code",
            "execution_count": null,
            "metadata": {},
            "outputs": [],
            "source": [
                "result = get_bmi(70.0, 1.75)  # Weight in kg, Height in meters\n",
                "print(f\"BMI: {result.bmi}, Category: {result.category}\")"
            ]
        },
        {
            "cell_type": "code",
            "execution_count": null,
            "metadata": {},
            "outputs": [],
            "source": [
                "for person in test_data:\n",
                "    weight = person[\"weight\"]\n",
                "    height = person[\"height\"]\n",
                "    bmi_result = get_bmi(weight, height)\n",
                "    print(f\"Weight: {weight}kg, Height: {height}m -> BMI: {bmi_result.bmi}, Category: {bmi_result.category}\")\n"
            ]
        },
        {
            "cell_type": "markdown",
            "metadata": {},
            "source": [
                "## Convert Units"
            ]
        },
        {
            "cell_type": "code",
            "execution_count": null,
            "metadata": {},
            "outputs": [],
            "source": [
                "# Convert 70 kg to pounds\n",
                "converted_value = unit_convert(70, \"kg\", \"lb\")\n",
                "print(f\"Converted Value: {converted_value} lb\")\n"
            ]
        },
        {
            "cell_type": "code",
            "execution_count": null,
            "metadata": {},
            "outputs": [],
            "source": [
                "# Example: Convert weight from kg to pounds\n",
                "for person in test_data:\n",
                "    weight_kg = person[\"weight\"]\n",
                "    weight_lb = unit_convert(weight_kg, \"kg\", \"lb\")\n",
                "    print(f\"Weight: {weight_kg}kg -> {weight_lb}lb\")\n"
            ]
        },
        {
            "cell_type": "markdown",
            "metadata": {},
            "source": [
                "## Calculate BMR"
            ]
        },
        {
            "cell_type": "code",
            "execution_count": null,
            "metadata": {},
            "outputs": [],
            "source": [
                "bmr = get_bmr(70.0, 175.0, 25, \"male\")  # Weight in kg, Height in cm, Age in years, Sex\n",
                "print(f\"BMR: {bmr} calories/day\")\n"
            ]
        },
        {
            "cell_type": "code",
            "execution_count": null,
            "metadata": {},
            "outputs": [],
            "source": [
                "for person in test_data:\n",
                "    weight = person[\"weight\"]\n",
                "    height_cm = unit_convert(person[\"height\"], \"m\", \"cm\")  # Convert height to cm\n",
                "    age = person[\"age\"]\n",
                "    sex = person[\"sex\"]\n",
                "    bmr = get_bmr(weight, height_cm, age, sex)\n",
                "    print(f\"Weight: {weight}kg, Height: {height_cm}cm, Age: {age}, Sex: {sex} -> BMR: {bmr}\")\n"
            ]
        },
        {
            "cell_type": "markdown",
            "metadata": {},
            "source": [
                "## Calculate TDEE"
            ]
        },
        {
            "cell_type": "code",
            "execution_count": null,
            "metadata": {},
            "outputs": [],
            "source": [
                "tdee = get_tdee(1668.9, \"moderately active\")  # BMR and activity level\n",
                "print(f\"TDEE: {tdee} calories/day\")\n"
            ]
        },
        {
            "cell_type": "code",
            "execution_count": null,
            "metadata": {},
            "outputs": [],
            "source": [
                "for person in test_data:\n",
                "    weight = person[\"weight\"]\n",
                "    height_cm = unit_convert(person[\"height\"], \"m\", \"cm\")  # Convert height to cm\n",
                "    age = person[\"age\"]\n",
                "    sex = person[\"sex\"]\n",
                "    activity_level = person[\"activity_level\"]\n",
                "    bmr = get_bmr(weight, height_cm, age, sex)\n",
                "    tdee = get_tdee(bmr, activity_level)\n",
                "    print(f\"BMR: {bmr}, Activity Level: {activity_level} -> TDEE: {tdee}\")\n"
            ]
        }
    ],
    "metadata": {
        "kernelspec": {
            "display_name": "Python 3",
            "language": "python",
            "name": "python3"
        },
        "language_info": {
            "codemirror_mode": {
                "name": "ipython",
                "version": 3
            },
            "file_extension": ".py",
            "mimetype": "text/x-python",
            "name": "python",
            "nbconvert_exporter": "python",
            "pygments_lexer": "ipython3",
            "version": "3.9.6"
        }
    },
    "nbformat": 4,
    "nbformat_minor": 4
}
