{
    "cells": [
        {
            "cell_type": "markdown",
            "metadata": {},
            "source": [
                "In this tutorial, we will demonstrate how to use the functions provided in your package to analyze health metrics for a small dataset of individuals. By the end of this tutorial, you will know how to calculate **Body Mass Index (BMI)**, **Basal Metabolic Rate (BMR)**, and **Total Daily Energy Expenditure (TDEE)**. This step-by-step guide includes explanations alongside code examples to help you understand how to use the package effectively.\n",
                "\n",
                "## Step 1: **Setting Up Your Environment**\n",
                "Before diving into calculations, ensure your package is installed and properly imported. We'll begin by loading the package and defining our dataset.\n"
            ]
        },
        {
            "cell_type": "code",
            "execution_count": 1,
            "metadata": {},
            "outputs": [],
            "source": [
                "from healthsciencecalculator import get_bmi, get_bmr, get_tdee, BMIResult\n",
                "\n",
                "\n",
                "# Sample dataset\n",
                "test_data = [\n",
                "    {\"weight\": 70.0, \"height\": 1.75, \"age\": 25, \"sex\": \"male\", \"activity_level\": \"moderately active\"},\n",
                "    {\"weight\": 55.0, \"height\": 1.62, \"age\": 30, \"sex\": \"female\", \"activity_level\": \"lightly active\"},\n",
                "    {\"weight\": 90.0, \"height\": 1.80, \"age\": 40, \"sex\": \"male\", \"activity_level\": \"very active\"},\n",
                "    {\"weight\": 68.0, \"height\": 1.65, \"age\": 28, \"sex\": \"female\", \"activity_level\": \"sedentary\"},\n",
                "    {\"weight\": 75.0, \"height\": 1.70, \"age\": 35, \"sex\": \"male\", \"activity_level\": \"extra active\"},\n",
                "]"
            ]
        },
        {
            "cell_type": "markdown",
            "metadata": {},
            "source": [
                "Our dataset consists of five individuals, each with attributes like weight, height, age, sex, and activity level. We will use these attributes to calculate various health metrics. The functions provided in `healthsciencecalculator` make these calculations straightforward and reusable."
            ]
        },
        {
            "cell_type": "markdown",
            "metadata": {},
            "source": []
        }
    ],
    "metadata": {
        "kernelspec": {
            "display_name": "d524",
            "language": "python",
            "name": "python3"
        },
        "language_info": {
            "codemirror_mode": {
                "name": "ipython",
                "version": 3
            },
            "file_extension": ".py",
            "mimetype": "text/x-python",
            "name": "python",
            "nbconvert_exporter": "python",
            "pygments_lexer": "ipython3",
            "version": "3.9.21"
        }
    },
    "nbformat": 4,
    "nbformat_minor": 4
}
