{
 "cells": [
  {
   "cell_type": "markdown",
   "metadata": {},
   "source": [
    "# BMI Calculation Documentation\n",
    "\n",
    "## `get_bmi` Function\n",
    "\n",
    "### Description\n",
    "Calculates Body Mass Index (BMI) and classifies it into standard health categories.\n",
    "\n",
    "### Parameters\n",
    "| Parameter | Type   | Description                   | Constraints               |\n",
    "|-----------|--------|-------------------------------|---------------------------|\n",
    "| `weight`  | float  | Weight in kilograms (kg)      | Must be a positive number |\n",
    "| `height`  | float  | Height in meters (m)          | Must be a positive number |\n",
    "\n",
    "### Returns\n",
    "`BMIResult` dataclass containing:\n",
    "- `bmi` (float): BMI value rounded to 1 decimal\n",
    "- `category` (str): Health classification:\n",
    "  - Underweight: <18.5\n",
    "  - Healthy: 18.5-24.9\n",
    "  - Overweight: 25-29.9\n",
    "  - Class 1 obesity: 30-34.9\n",
    "  - Class 2 obesity: 35-39.9\n",
    "  - Class 3 obesity: ≥40\n",
    "\n",
    "### Raises\n",
    "- `TypeError`: Non-numeric inputs\n",
    "- `ValueError`: Non-positive inputs"
   ]
  },
  {
   "cell_type": "markdown",
   "metadata": {},
   "source": [
    "## Usage Examples\n",
    "\n",
    "### Example 1: Healthy BMI"
   ]
  },
  {
   "cell_type": "code",
   "execution_count": 1,
   "metadata": {},
   "outputs": [
    {
     "name": "stdout",
     "output_type": "stream",
     "text": [
      "BMIResult(bmi=22.9, category='healthy')\n"
     ]
    }
   ],
   "source": [
    "from healthsciencecalculator import get_bmi\n",
    "\n",
    "# Test case: {\"weight\": 70.0, \"height\": 1.75, ...}\n",
    "result = get_bmi(weight=70.0, height=1.75)\n",
    "print(result)  # Output: BMIResult(bmi=22.9, category='healthy')"
   ]
  },
  {
   "cell_type": "markdown",
   "metadata": {},
   "source": [
    "### Example 2: Healthy BMI (Lower Range)"
   ]
  },
  {
   "cell_type": "code",
   "execution_count": 7,
   "metadata": {},
   "outputs": [
    {
     "name": "stdout",
     "output_type": "stream",
     "text": [
      "BMIResult(bmi=21.0, category='healthy')\n"
     ]
    }
   ],
   "source": [
    "# Test case: {\"weight\": 55.0, \"height\": 1.62, ...}\n",
    "result = get_bmi(weight=55.0, height=1.62)\n",
    "print(result)  # Output: BMIResult(bmi=21.0, category='healthy')"
   ]
  },
  {
   "cell_type": "markdown",
   "metadata": {},
   "source": [
    "### Example 2: Healthy BMI (Lower Range)"
   ]
  },
  {
   "cell_type": "code",
   "execution_count": null,
   "metadata": {},
   "outputs": [],
   "source": [
    "# Test case: {\"weight\": 90.0, \"height\": 1.80, ...}\n",
    "result = get_bmi(weight=90.0, height=1.80)\n",
    "print(result)  # Output: BMIResult(bmi=27.8, category='overweight')"
   ]
  },
  {
   "cell_type": "markdown",
   "metadata": {},
   "source": [
    "### Example 2: Healthy BMI (Lower Range)"
   ]
  },
  {
   "cell_type": "code",
   "execution_count": null,
   "metadata": {},
   "outputs": [],
   "source": [
    "# Test case: {\"weight\": 68.0, \"height\": 1.65, ...}\n",
    "result = get_bmi(weight=68.0, height=1.65)\n",
    "print(result)  # Output: BMIResult(bmi=25.0, category='overweight')"
   ]
  },
  {
   "cell_type": "markdown",
   "metadata": {},
   "source": [
    "### Example 3: Overweight"
   ]
  },
  {
   "cell_type": "code",
   "execution_count": null,
   "metadata": {},
   "outputs": [],
   "source": [
    "# Test case: {\"weight\": 75.0, \"height\": 1.70, ...}\n",
    "result = get_bmi(weight=75.0, height=1.70)\n",
    "print(result)  # Output: BMIResult(bmi=26.0, category='overweight')"
   ]
  },
  {
   "cell_type": "markdown",
   "metadata": {},
   "source": [
    "### Example 4: Borderline Overweight\n"
   ]
  },
  {
   "cell_type": "code",
   "execution_count": null,
   "metadata": {},
   "outputs": [],
   "source": [
    "# Test case: {\"weight\": 68.0, \"height\": 1.65, ...}\n",
    "result = get_bmi(weight=68.0, height=1.65)\n",
    "print(result)  # Output: BMIResult(bmi=25.0, category='overweight')"
   ]
  },
  {
   "cell_type": "markdown",
   "metadata": {},
   "source": [
    "### Example 5: Overweight\n"
   ]
  },
  {
   "cell_type": "code",
   "execution_count": 2,
   "metadata": {},
   "outputs": [
    {
     "name": "stdout",
     "output_type": "stream",
     "text": [
      "BMIResult(bmi=26.0, category='overweight')\n"
     ]
    }
   ],
   "source": [
    "# Test case: {\"weight\": 75.0, \"height\": 1.70, ...}\n",
    "result = get_bmi(weight=75.0, height=1.70)\n",
    "print(result)  # Output: BMIResult(bmi=26.0, category='overweight')"
   ]
  },
  {
   "cell_type": "markdown",
   "metadata": {},
   "source": [
    "### Example 6: Applying On Dataframe\n"
   ]
  },
  {
   "cell_type": "code",
   "execution_count": 5,
   "metadata": {},
   "outputs": [
    {
     "data": {
      "text/html": [
       "<div>\n",
       "<style scoped>\n",
       "    .dataframe tbody tr th:only-of-type {\n",
       "        vertical-align: middle;\n",
       "    }\n",
       "\n",
       "    .dataframe tbody tr th {\n",
       "        vertical-align: top;\n",
       "    }\n",
       "\n",
       "    .dataframe thead th {\n",
       "        text-align: right;\n",
       "    }\n",
       "</style>\n",
       "<table border=\"1\" class=\"dataframe\">\n",
       "  <thead>\n",
       "    <tr style=\"text-align: right;\">\n",
       "      <th></th>\n",
       "      <th>weight</th>\n",
       "      <th>height</th>\n",
       "      <th>age</th>\n",
       "      <th>sex</th>\n",
       "      <th>activity_level</th>\n",
       "      <th>bmi</th>\n",
       "      <th>category</th>\n",
       "    </tr>\n",
       "  </thead>\n",
       "  <tbody>\n",
       "    <tr>\n",
       "      <th>0</th>\n",
       "      <td>70.0</td>\n",
       "      <td>1.75</td>\n",
       "      <td>25</td>\n",
       "      <td>male</td>\n",
       "      <td>moderately active</td>\n",
       "      <td>22.9</td>\n",
       "      <td>healthy</td>\n",
       "    </tr>\n",
       "    <tr>\n",
       "      <th>1</th>\n",
       "      <td>55.0</td>\n",
       "      <td>1.62</td>\n",
       "      <td>30</td>\n",
       "      <td>female</td>\n",
       "      <td>lightly active</td>\n",
       "      <td>21.0</td>\n",
       "      <td>healthy</td>\n",
       "    </tr>\n",
       "    <tr>\n",
       "      <th>2</th>\n",
       "      <td>90.0</td>\n",
       "      <td>1.80</td>\n",
       "      <td>40</td>\n",
       "      <td>male</td>\n",
       "      <td>very active</td>\n",
       "      <td>27.8</td>\n",
       "      <td>overweight</td>\n",
       "    </tr>\n",
       "    <tr>\n",
       "      <th>3</th>\n",
       "      <td>68.0</td>\n",
       "      <td>1.65</td>\n",
       "      <td>28</td>\n",
       "      <td>female</td>\n",
       "      <td>sedentary</td>\n",
       "      <td>25.0</td>\n",
       "      <td>overweight</td>\n",
       "    </tr>\n",
       "    <tr>\n",
       "      <th>4</th>\n",
       "      <td>75.0</td>\n",
       "      <td>1.70</td>\n",
       "      <td>35</td>\n",
       "      <td>male</td>\n",
       "      <td>extra active</td>\n",
       "      <td>26.0</td>\n",
       "      <td>overweight</td>\n",
       "    </tr>\n",
       "  </tbody>\n",
       "</table>\n",
       "</div>"
      ],
      "text/plain": [
       "   weight  height  age     sex     activity_level   bmi    category\n",
       "0    70.0    1.75   25    male  moderately active  22.9     healthy\n",
       "1    55.0    1.62   30  female     lightly active  21.0     healthy\n",
       "2    90.0    1.80   40    male        very active  27.8  overweight\n",
       "3    68.0    1.65   28  female          sedentary  25.0  overweight\n",
       "4    75.0    1.70   35    male       extra active  26.0  overweight"
      ]
     },
     "execution_count": 5,
     "metadata": {},
     "output_type": "execute_result"
    }
   ],
   "source": [
    "import pandas as pd \n",
    "\n",
    "test_data = [\n",
    "    {\"weight\": 70.0, \"height\": 1.75, \"age\": 25, \"sex\": \"male\", \"activity_level\": \"moderately active\"},\n",
    "    {\"weight\": 55.0, \"height\": 1.62, \"age\": 30, \"sex\": \"female\", \"activity_level\": \"lightly active\"},\n",
    "    {\"weight\": 90.0, \"height\": 1.80, \"age\": 40, \"sex\": \"male\", \"activity_level\": \"very active\"},\n",
    "    {\"weight\": 68.0, \"height\": 1.65, \"age\": 28, \"sex\": \"female\", \"activity_level\": \"sedentary\"},\n",
    "    {\"weight\": 75.0, \"height\": 1.70, \"age\": 35, \"sex\": \"male\", \"activity_level\": \"extra active\"},\n",
    "] \n",
    "test_df = pd.DataFrame(test_data)  \n",
    "\n",
    "test_df['bmi'] = test_df.apply(lambda x: get_bmi(x['weight'], x['height']).bmi, axis=1)\n",
    "test_df['category'] = test_df.apply(lambda x: get_bmi(x['weight'], x['height']).category, axis=1)\n",
    "\n",
    "test_df"
   ]
  },
  {
   "cell_type": "markdown",
   "metadata": {},
   "source": [
    "## Notes\n",
    "1. Values rounded to 1 decimal place  \n",
    "2. Age/sex/activity level from test data are shown for context but not used in BMI calculation  \n",
    "3. Follows WHO classification standards  \n",
    "4. Use with other functions (BMR/TDEE) for full health analysis  "
   ]
  },
  {
   "cell_type": "markdown",
   "metadata": {},
   "source": []
  }
 ],
 "metadata": {
  "kernelspec": {
   "display_name": "d524",
   "language": "python",
   "name": "python3"
  },
  "language_info": {
   "codemirror_mode": {
    "name": "ipython",
    "version": 3
   },
   "file_extension": ".py",
   "mimetype": "text/x-python",
   "name": "python",
   "nbconvert_exporter": "python",
   "pygments_lexer": "ipython3",
   "version": "3.9.21"
  }
 },
 "nbformat": 4,
 "nbformat_minor": 2
}
